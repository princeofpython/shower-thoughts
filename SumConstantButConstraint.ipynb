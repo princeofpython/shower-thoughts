{
 "cells": [
  {
   "cell_type": "markdown",
   "metadata": {},
   "source": [
    "**Input:**  \n",
    "First line : Two integers n, k with space  \n",
    "Next n lines: if a <= x<sub>1</sub> <=b, two integers a, b with space  \n",
    "\n",
    "**Output:**  \n",
    "All possible set of solutions of x<sub>1</sub> + x<sub>2</sub> + x<sub>3</sub> + .... x<sub>n</sub> = k "
   ]
  },
  {
   "cell_type": "code",
   "execution_count": null,
   "metadata": {},
   "outputs": [],
   "source": [
    "n, k = [int(_) for _ in input().split()]\n",
    "bounds = []\n",
    "for _ in range(n):\n",
    "    bounds.append(list(map(int, input().split())))"
   ]
  },
  {
   "cell_type": "code",
   "execution_count": null,
   "metadata": {},
   "outputs": [],
   "source": [
    "def func(n, k, bounds, answer):\n",
    "    if n==1:\n",
    "        if bounds[0][0]<k<bounds[0][1]:\n",
    "            answer.append(k)\n",
    "            print(answer)\n",
    "            answer.pop()\n",
    "    else:        \n",
    "        for i in range(bounds[0][0], bounds[0][1]+1):\n",
    "            answer.append(i)\n",
    "            func(n-1, k-i, bounds[1:], answer)\n",
    "            answer.pop()"
   ]
  },
  {
   "cell_type": "code",
   "execution_count": null,
   "metadata": {},
   "outputs": [],
   "source": [
    "answer = []\n",
    "func(n, k, bounds, answer)"
   ]
  },
  {
   "cell_type": "markdown",
   "metadata": {},
   "source": [
    "**Note :** If there is no output, it means that there are no possible solutions.  "
   ]
  }
 ],
 "metadata": {
  "kernelspec": {
   "display_name": "Python 3",
   "language": "python",
   "name": "python3"
  },
  "language_info": {
   "codemirror_mode": {
    "name": "ipython",
    "version": 3
   },
   "file_extension": ".py",
   "mimetype": "text/x-python",
   "name": "python",
   "nbconvert_exporter": "python",
   "pygments_lexer": "ipython3",
   "version": "3.6.5"
  }
 },
 "nbformat": 4,
 "nbformat_minor": 2
}
